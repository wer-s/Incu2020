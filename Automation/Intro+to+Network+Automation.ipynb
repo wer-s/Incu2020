{
 "cells": [
  {
   "cell_type": "markdown",
   "metadata": {},
   "source": [
    "![CLUSintro.png](attachment:CLUSintro.png)"
   ]
  },
  {
   "cell_type": "markdown",
   "metadata": {},
   "source": [
    "# <div style=\"background: #00bceb;border-bottom: 1px solid #00bceb;border-top: 1px solid #00bceb;padding:2%;\"><center><font color='white'> Let me tell you a story... </font></center></div>"
   ]
  },
  {
   "cell_type": "markdown",
   "metadata": {},
   "source": [
    "<center>Imagine that a customer calls you and asks you to check if his network device's interfaces configuration is compliant with the template spreadsheet configuration which he sent to you. If something is incorrect, please configure it as it stands in the spreadsheet. <br><br><center>\n",
    "    <center> <b>Sure! No problem!</b> </center>"
   ]
  },
  {
   "cell_type": "markdown",
   "metadata": {},
   "source": [
    "<center>...</center>"
   ]
  },
  {
   "cell_type": "markdown",
   "metadata": {},
   "source": [
    "<center> <b>Done Dear Customer!</b> <br> But there are hundreds of other devices to check and correct... <br><br>REALLY?! </center>"
   ]
  },
  {
   "cell_type": "markdown",
   "metadata": {},
   "source": [
    "![Screen%20Shot%202018-06-04%20at%2011.19.24.png](attachment:Screen%20Shot%202018-06-04%20at%2011.19.24.png)"
   ]
  },
  {
   "cell_type": "markdown",
   "metadata": {},
   "source": [
    "<font style=\"zoom:200%;\"> <center>**Is there a solution?!** </center> </font>"
   ]
  },
  {
   "cell_type": "markdown",
   "metadata": {},
   "source": [
    "# <div style=\"background: #00bceb;border-bottom: 1px solid #00bceb;border-top: 1px solid #00bceb;padding:2%;margin-bottom:-3%\"><center><font color='white'>Introduction</font></center></div>"
   ]
  },
  {
   "cell_type": "markdown",
   "metadata": {},
   "source": [
    "<center>Now it's the right time to introduce you to the <b>Network Programmability</b> topics!</center> "
   ]
  },
  {
   "cell_type": "markdown",
   "metadata": {},
   "source": [
    "![Screen%20Shot%202018-05-21%20at%2021.29.06.png](attachment:Screen%20Shot%202018-05-21%20at%2021.29.06.png)"
   ]
  },
  {
   "cell_type": "markdown",
   "metadata": {},
   "source": [
    "<center>In this Workshop we're going to automate the above-mentioned situation using Python scripting.</center><br><br>Although the exercise will be based only on 1 device (due to lack of computer's memory during virtualization) - it will allow you to get the general concept and re-use it on many devices simultaneously! \n",
    "\n",
    "\n",
    "**IMPORTANT: This LAB shows only an example of a Network Automation problem. But you can re-use all mechanisms existing here as per your need/scenario!**"
   ]
  },
  {
   "cell_type": "markdown",
   "metadata": {},
   "source": [
    "![Screen%20Shot%202018-06-04%20at%2011.19.43.png](attachment:Screen%20Shot%202018-06-04%20at%2011.19.43.png)"
   ]
  },
  {
   "cell_type": "markdown",
   "metadata": {},
   "source": [
    "<div style=\"border-bottom: 1px solid #00bceb;border-top: 1px solid #00bceb;padding:4%;margin-top:-2%\">\n",
    "<div><font color='#005073'><h1><center>Workshop Agenda</center></h1></font></div>\n",
    "\n",
    "<div><font color='white'><h2>Intro</h2></font></div>\n",
    "\n",
    "<ol>\n",
    "<div><font color='white'><h4>\n",
    "<a href=\"#-1st-step---GET-DATA-\"><li>Different ways of collecting data from network devices:</li></a>\n",
    "<ul>\n",
    "<a href=\"#Option-A.---Netmiko\"><li> Netmiko </li></a> <br>\n",
    "<a href=\"#Option-B.---NETCONF\"><li> NETCONF </li></a> <br>\n",
    "</ul>\n",
    "</h4></font></div>\n",
    "</ol>\n",
    "<ol start=\"2\">\n",
    "<div><font color='white'><h4>\n",
    "<a href=\"#-2nd-step---EXTRACT-DATA-\"><li>Methods of extracting desired data</li></a> <br>\n",
    "<a href=\"#-3rd-step---FILL-THE-SPREADSHEET-\"><li>Creating a spreadsheet and filling it with data</li></a> <br>\n",
    "<a href=\"#-4th-step---CHECK-&-UPDATE-CONFIG-\"><li>Compliance check - box vs. spreadsheet</li></a> <br>\n",
    "</h4></font></div>\n",
    "</ol>\n",
    "</div>\n"
   ]
  },
  {
   "cell_type": "markdown",
   "metadata": {},
   "source": [
    "## Lab Instructions"
   ]
  },
  {
   "cell_type": "markdown",
   "metadata": {},
   "source": [
    "Jupyter instructions contain two types of cells: Markdown and Code.\n",
    "* **Markdown** - this is static content, like text and pictures. You **can't** interact with it.\n",
    "* **Code** - this is an interactive cell which **can** be interacted with (run).<br> It is marked with 'In[ ]:' marker on a left.<br>To 'run' code cell press 'Shift+Enter' while the cell is selected (green border) or press 'Run' button in the menu bar (One code cell can be run many times)"
   ]
  },
  {
   "cell_type": "markdown",
   "metadata": {},
   "source": [
    "This is a markdown cell!\n",
    "It is static, you cant interact with it."
   ]
  },
  {
   "cell_type": "code",
   "execution_count": 1,
   "metadata": {
    "collapsed": false
   },
   "outputs": [
    {
     "name": "stdout",
     "output_type": "stream",
     "text": [
      "Hello World\n"
     ]
    }
   ],
   "source": [
    "# This is code cell! You can interact with it by pressing 'Shift+Enter' or 'Run' button in the menu bar.\n",
    "# Try it!\n",
    "print(\"Hello World\")"
   ]
  },
  {
   "cell_type": "markdown",
   "metadata": {},
   "source": [
    "If the **Code** cell has **In[ \\* ]** on a left, it means that it's during the execution of the code. Always wait when the number appears here, for example **In[ 1 ]** - it will mean that the code has been executed.\n",
    "\n",
    "<font style=\"color:red;\"><center>**DISCLAIMER: You need to execute Code cells one by one! Otherwise, it won't work!**<center><font>"
   ]
  },
  {
   "cell_type": "markdown",
   "metadata": {},
   "source": [
    "<hr style=\"opacity:0.5;height:2px;border:none;color:#00bceb;background-color:#00bceb;\" />\n",
    "<hr style=\"opacity:0.5;height:2px;border:none;color:#00bceb;background-color:#00bceb;\" />"
   ]
  },
  {
   "cell_type": "markdown",
   "metadata": {},
   "source": [
    "# <div style=\"background: #00bceb;border-bottom: 1px solid #00bceb;border-top: 1px solid #00bceb;padding:2%;margin-top:-2%;margin-bottom:-3%;\"><center><font color='white'> Let's start! </font></center></div>"
   ]
  },
  {
   "cell_type": "markdown",
   "metadata": {},
   "source": [
    "# <div class=\"klasa\" style=\"background: #005073;border-bottom: 1px solid #005073;border-top: 1px solid #005073;padding:2%;margin-top:-2%;margin-bottom:-3%;\"><center><font color='white'> CHAPTER 1 - GET DATA </font></center></div>"
   ]
  },
  {
   "cell_type": "markdown",
   "metadata": {},
   "source": [
    "### Overview\n",
    "In this chapter we're going to **gather configuration data from the device** using Python and:\n",
    "- Option A. - Netmiko \n",
    "- Option B. - NETCONF"
   ]
  },
  {
   "cell_type": "markdown",
   "metadata": {},
   "source": [
    "# ► Option A. - Netmiko\n",
    "Netmiko is a Python module written by Kirk Byers which allows to interact with a network device via SSH. \n",
    "It automatically handles prompt and provides simple API (Application Programming Interface) for the most common operations. <br>"
   ]
  },
  {
   "cell_type": "markdown",
   "metadata": {},
   "source": [
    "![Screen%20Shot%202018-06-10%20at%2016.12.34.png](attachment:Screen%20Shot%202018-06-10%20at%2016.12.34.png)"
   ]
  },
  {
   "cell_type": "markdown",
   "metadata": {},
   "source": [
    "<b> Netmiko is not a protocol, it only provides a scripted way for the execution of CLI commands via SSH! </b>\n",
    "\n",
    "Gathering #show commands manually from 1 device? - No issues! <br>But imagine that you need to SSH and collect a lot of #show commands from many devices - for this, you can write an easy Python script using for example Netmiko!"
   ]
  },
  {
   "cell_type": "markdown",
   "metadata": {},
   "source": [
    "### Step 1: Import required Python modules\n",
    "\n",
    "Let's start by importing the necessary Python modules.<br>\n",
    "&#x21B3; A **module** is a file containing Python definitions and statements that were prepared to help with certain tasks. For example, the 'math' module contains loads of predefined mathematical functions and equations like log(), sin(), cos() etc."
   ]
  },
  {
   "cell_type": "code",
   "execution_count": null,
   "metadata": {
    "collapsed": true
   },
   "outputs": [],
   "source": [
    "from netmiko import ConnectHandler"
   ]
  },
  {
   "cell_type": "markdown",
   "metadata": {},
   "source": [
    "#### Required Python modules:\n",
    "\n",
    "* **netmiko** - from the Netmiko module we're going to import the ConnectHandler function to establish connectivity to the device"
   ]
  },
  {
   "cell_type": "markdown",
   "metadata": {},
   "source": [
    "### Step 2: Define connection parameters and connect to the box\n",
    "\n",
    "Let's call a Netmiko **ConnectHandler()** function with defined **connection parameters** of our device - it will allow us to establish a connection to this device.<br>\n",
    "\n",
    "We're putting this in a **try-except** block. <br>\n",
    "&#x21B3; Python try-except blocks = '**try** to execute everything in that block. In case of any failure - execute the contents of the **except** block'<br>\n",
    "Why? - To gracefuly handle exceptions in case of any issues with the connection establishment "
   ]
  },
  {
   "cell_type": "code",
   "execution_count": null,
   "metadata": {
    "collapsed": true
   },
   "outputs": [],
   "source": [
    "try:\n",
    "    device_connection = ConnectHandler(\n",
    "        device_type = 'cisco_nxos',\n",
    "        ip = '127.0.0.1',\n",
    "        port = '2222',\n",
    "        username = 'admin',\n",
    "        password = 'cisco!123'\n",
    "    )\n",
    "    print(\"Connected to the device!\")\n",
    "except:\n",
    "    print(\"Failure...\")"
   ]
  },
  {
   "cell_type": "markdown",
   "metadata": {},
   "source": [
    "<b> Success! Connection to the device via SSH has been established! </b>"
   ]
  },
  {
   "cell_type": "markdown",
   "metadata": {},
   "source": [
    "Now we got to this moment of the CLI interaction using Python:\n",
    "\n",
    "\n",
    "![cli.png](attachment:cli.png)"
   ]
  },
  {
   "cell_type": "markdown",
   "metadata": {},
   "source": [
    "### Step 3: Get output"
   ]
  },
  {
   "cell_type": "markdown",
   "metadata": {},
   "source": [
    "So now let's execute a CLI command to get some outputs. Use the **device_connection** established in the previous step and execute a CLI command, for example #show command, using the Netmiko **send_command()** function:"
   ]
  },
  {
   "cell_type": "code",
   "execution_count": null,
   "metadata": {
    "collapsed": true
   },
   "outputs": [],
   "source": [
    "ssh_output = device_connection.send_command(\"show ip int br\")"
   ]
  },
  {
   "cell_type": "markdown",
   "metadata": {},
   "source": [
    "Print the output on the screen:"
   ]
  },
  {
   "cell_type": "code",
   "execution_count": null,
   "metadata": {
    "collapsed": true,
    "scrolled": true
   },
   "outputs": [],
   "source": [
    "print(ssh_output)"
   ]
  },
  {
   "cell_type": "markdown",
   "metadata": {},
   "source": [
    "Great! You can see the output from the issued CLI command on our Nexus - it is exactly the same result as we would get if we SSH manually to the box and type this command. <br>\n",
    "\n",
    "<b> Play with this a little bit! Try to change the CLI command between the quotation marks, execute this code cell again and print the output! </b> <br>\n",
    "<br>\n",
    "<center>...</center>\n",
    "\n",
    "You're done! Now, please gracefuly disconnect from the device:"
   ]
  },
  {
   "cell_type": "code",
   "execution_count": null,
   "metadata": {
    "collapsed": true
   },
   "outputs": [],
   "source": [
    "device_connection.disconnect()"
   ]
  },
  {
   "cell_type": "markdown",
   "metadata": {},
   "source": [
    "# <div style=\"background: #6ebe4a;border-bottom: 1px solid #6ebe4a;border-top: 1px solid #6ebe4a;padding:1%;\"><center><font color='white'> Success! Data Gathered! </font></center></div>"
   ]
  },
  {
   "cell_type": "markdown",
   "metadata": {},
   "source": [
    "# ► Option B. - NETCONF\n",
    "Now you know how to get data from the box using:<br>\n",
    "✓ **Netmiko** Python library (simple SSH simulation)<br><br>\n",
    "Netmiko is not the only good way to get data from the device. Now, let’s have a look on how to get it using the **NETCONF** protocol and **YANG Data models**."
   ]
  },
  {
   "cell_type": "markdown",
   "metadata": {},
   "source": [
    "![Screen%20Shot%202018-06-10%20at%2016.13.27.png](attachment:Screen%20Shot%202018-06-10%20at%2016.13.27.png)"
   ]
  },
  {
   "cell_type": "markdown",
   "metadata": {},
   "source": [
    "The **NETCONF** protocol provides mechanisms to perform *OPERATIONS* such as install (&lt;get&gt; and &lt;get-config&gt;), manipulate (&lt;edit-config&gt;), and delete (&lt;delete-config&gt;) the configuration of network devices. <br> To describe the *CONTENT* of the messages (configuration data and protocol messages), it uses an Extensible Markup Language **(XML)-based** data encoding. <br>The NETCONF protocol operations are realized as remote procedure calls **(RPCs)** *MESSAGES* which leverage on *TRANSPORT* **SSH** at the bottom (but this time via port **830**)."
   ]
  },
  {
   "cell_type": "markdown",
   "metadata": {},
   "source": [
    "See below how the NETCONF stack and example message (getting the interface name) look like:<br>\n",
    "![Screen%20Shot%202018-05-21%20at%2019.56.24.png](attachment:Screen%20Shot%202018-05-21%20at%2019.56.24.png)"
   ]
  },
  {
   "cell_type": "markdown",
   "metadata": {},
   "source": [
    "**Remember!**<br> NETCONF itself is only a **transport protocol**. To describe the CONTENT of the NETCONF Requests, we use specific Data Models **(YANG Data Models)**."
   ]
  },
  {
   "cell_type": "markdown",
   "metadata": {},
   "source": [
    "YANG definitions directly map to NETCONF (XML) content."
   ]
  },
  {
   "cell_type": "markdown",
   "metadata": {},
   "source": [
    "Each module is bound to a distinct XML namespace, which is a globally unique URI."
   ]
  },
  {
   "cell_type": "markdown",
   "metadata": {},
   "source": [
    "**Reasons why NETCONF is awesome in terms of Network Automation?**\n",
    "- Scalability!\n",
    "- Transactions (all or nothing!)\n",
    "- Separation of configuration and operational data\n",
    "- Validation of the configuration"
   ]
  },
  {
   "cell_type": "markdown",
   "metadata": {},
   "source": [
    "\n",
    "\n",
    "### Step 1: Import required Python modules\n",
    "\n",
    "Let's start by importing necessary Python modules:"
   ]
  },
  {
   "cell_type": "code",
   "execution_count": null,
   "metadata": {
    "collapsed": true
   },
   "outputs": [],
   "source": [
    "import ncclient\n",
    "from ncclient import manager\n",
    "from ncclient.operations import TimeoutExpiredError\n",
    "import xml.dom.minidom"
   ]
  },
  {
   "cell_type": "markdown",
   "metadata": {},
   "source": [
    "#### Required Python module:\n",
    "\n",
    "* **ncclient** - Python library that facilitates scripting around the NETCONF protocol"
   ]
  },
  {
   "cell_type": "markdown",
   "metadata": {},
   "source": [
    "### Step 2: Define connection parameters and connect to the box"
   ]
  },
  {
   "cell_type": "markdown",
   "metadata": {},
   "source": [
    "Let's call a built-in ncclient manager's **connect()** function with defined **connection parameters** of our device - it will establish a connection to this router.<br>\n",
    "\n",
    "We're once again putting this in a Python **try-except** block structure to gracefuly handle exceptions in case of any issues with the connection establishment."
   ]
  },
  {
   "cell_type": "code",
   "execution_count": null,
   "metadata": {
    "collapsed": true
   },
   "outputs": [],
   "source": [
    "try:\n",
    "    device_connection = ncclient.manager.connect(\n",
    "        host = '127.0.0.1',\n",
    "        port = 2222,\n",
    "        username='admin',\n",
    "        password='cisco!123',\n",
    "        hostkey_verify=False,\n",
    "        device_params={'name': 'nexus'},\n",
    "        allow_agent=False,\n",
    "        look_for_keys=False\n",
    "    )\n",
    "    print(\"Connected to the device!\")\n",
    "except:\n",
    "    print(\"Failure...\")"
   ]
  },
  {
   "cell_type": "markdown",
   "metadata": {},
   "source": [
    "Success! Connection to the device via NETCONF protocol has been established! "
   ]
  },
  {
   "cell_type": "markdown",
   "metadata": {},
   "source": [
    "### Step 3: Get output"
   ]
  },
  {
   "cell_type": "markdown",
   "metadata": {},
   "source": [
    "So, let’s specify what we want to filter from the whole running configuration. In this example, we only want to get **interfaces** information:"
   ]
  },
  {
   "cell_type": "code",
   "execution_count": 8,
   "metadata": {
    "collapsed": true
   },
   "outputs": [],
   "source": [
    "int_filter = '''\n",
    "                       <show xmlns=\"http://www.cisco.com/nxos:1.0\">\n",
    "                             <ip>\n",
    "                               <interface></interface>\n",
    "                             </ip>\n",
    "                       </show>\n",
    "           '''"
   ]
  },
  {
   "cell_type": "markdown",
   "metadata": {},
   "source": [
    "Execute **NETCONF Request (&lt;get-config&gt;)** on a **running** configuration with a specified **filter** using previously defined **device_connection** and ncclient **get_config()** function:"
   ]
  },
  {
   "cell_type": "code",
   "execution_count": null,
   "metadata": {
    "collapsed": true,
    "scrolled": true
   },
   "outputs": [],
   "source": [
    "netconf_output = device_connection.get(('subtree', int_filter))\n",
    "print(netconf_output)"
   ]
  },
  {
   "cell_type": "markdown",
   "metadata": {},
   "source": [
    "![Screenshot%202019-06-05%20at%2016.18.56.png](attachment:Screenshot%202019-06-05%20at%2016.18.56.png)</div></center>"
   ]
  },
  {
   "cell_type": "markdown",
   "metadata": {},
   "source": [
    "And print the received **NETCONF Response** in an original **XML** format:"
   ]
  },
  {
   "cell_type": "code",
   "execution_count": null,
   "metadata": {
    "collapsed": true
   },
   "outputs": [],
   "source": [
    "print(netconf_output)"
   ]
  },
  {
   "cell_type": "markdown",
   "metadata": {},
   "source": [
    "Congratulations, you received the data!"
   ]
  },
  {
   "cell_type": "markdown",
   "metadata": {},
   "source": [
    "Success! Here you can see the whole structure of received Data via NETCONF protocol based on YANG Data Models."
   ]
  },
  {
   "cell_type": "markdown",
   "metadata": {},
   "source": [
    "# <div style=\"background: #6ebe4a;border-bottom: 1px solid #6ebe4a;border-top: 1px solid #6ebe4a;padding:1%;\"><center><font color='white'> Success! Data Gathered! </font></center></div>"
   ]
  },
  {
   "cell_type": "markdown",
   "metadata": {},
   "source": [
    "<hr style=\"opacity:0.5;height:1px;border:none;color:#005073;background-color:#005073;\" />"
   ]
  },
  {
   "cell_type": "markdown",
   "metadata": {},
   "source": [
    "# <div style=\"background: #005073;border-bottom: 1px solid #005073;border-top: 1px solid #005073;padding:2%;margin-top:-2%;margin-bottom:-3%;\"><center><font color='white'> CHAPTER 2 - EXTRACT DATA </font></center></div>"
   ]
  },
  {
   "cell_type": "markdown",
   "metadata": {},
   "source": [
    "### Overview\n",
    "In this chapter we are going to take configuration data gathered from the 1st chapter Option B. using **NETCONF** protocol and:<br>\n",
    "* **extract** only purely necessary **information**<br>\n",
    "* create a specific **Python data structure** <br>\n",
    "* **fill the structure** with extracted information"
   ]
  },
  {
   "cell_type": "markdown",
   "metadata": {},
   "source": [
    "![Screen%20Shot%202018-06-10%20at%2016.14.43.png](attachment:Screen%20Shot%202018-06-10%20at%2016.14.43.png)"
   ]
  },
  {
   "cell_type": "markdown",
   "metadata": {},
   "source": [
    "### How to extract values from the XML?\n",
    "First we need to **extract values from the XML!**<br> Unfortunately, Python is not processing XML tags within its code easily... That's why to achieve this - we will use something called **XPath**.<br>"
   ]
  },
  {
   "cell_type": "markdown",
   "metadata": {},
   "source": [
    "**XPath (XML Path Language)** - it's an expression which uses a path notation, like those used in URLs, for addressing parts of an XML document.<br><br>For example, the expression *data:name* will return a node-set of the *&lt;name&gt;* elements contained in the *&lt;data&gt;* elements, if such elements are declared in the source XML document. To receive not node-set but the value between specific tags append the XPath **text()** function at the end."
   ]
  },
  {
   "cell_type": "markdown",
   "metadata": {},
   "source": [
    "![Screen%20Shot%202018-05-21%20at%2009.53.12.png](attachment:Screen%20Shot%202018-05-21%20at%2009.53.12.png)"
   ]
  },
  {
   "cell_type": "markdown",
   "metadata": {},
   "source": [
    "XPath also supports namespaces! Namespace prefixes can be included in expressions so that the matching operations can check for specific namespace prefixes.<br><br>\n",
    "Then we want to create a specific structure and fill it with extracted information."
   ]
  },
  {
   "cell_type": "markdown",
   "metadata": {},
   "source": [
    "### How to structurize the data?\n",
    "The most famous Python data structure is a **dictionary**. <br>\n",
    "Python dictionaries are sets of ***'key' : 'value'*** pairs, separated by commas and all embraced with pairs of braces **{}**.  \n",
    "\n",
    "After the values extraction from the NETCONF XML string (which we have gathered from the previous chapter), we want to fill them into the newly created Python dictionary as follows:"
   ]
  },
  {
   "cell_type": "markdown",
   "metadata": {},
   "source": [
    "![Screen%20Shot%202018-05-20%20at%2013.02.50.png](attachment:Screen%20Shot%202018-05-20%20at%2013.02.50.png)\n",
    "\n",
    "It will then allow us to easily operate on this Python structured data! Trust me, you will see that it's worth to do it! :)"
   ]
  },
  {
   "cell_type": "markdown",
   "metadata": {},
   "source": [
    "### Step 1: Import required Python modules\n",
    "Let's start by importing the necessary Python modules:"
   ]
  },
  {
   "cell_type": "code",
   "execution_count": null,
   "metadata": {
    "collapsed": true
   },
   "outputs": [],
   "source": [
    "import pprint"
   ]
  },
  {
   "cell_type": "markdown",
   "metadata": {},
   "source": [
    "### Step 2:  Define structures\n",
    "Let’s first **define** the **main structure** where we will add **all the Nexus interfaces** data:"
   ]
  },
  {
   "cell_type": "code",
   "execution_count": null,
   "metadata": {
    "collapsed": true
   },
   "outputs": [],
   "source": [
    "discovery = []"
   ]
  },
  {
   "cell_type": "markdown",
   "metadata": {},
   "source": [
    "Let's then **define substructures** which will describe a **single Nexus interface** (Interface Name, IP address and Subnet Mask):"
   ]
  },
  {
   "cell_type": "code",
   "execution_count": null,
   "metadata": {
    "collapsed": true
   },
   "outputs": [],
   "source": [
    "interface_name = []\n",
    "ip = []\n",
    "mask = []"
   ]
  },
  {
   "cell_type": "markdown",
   "metadata": {},
   "source": [
    "The main discovery structure will consist of multiple (as many as the number of interfaces) substructures including an Interface Name, IP address and Subnet Mask."
   ]
  },
  {
   "cell_type": "markdown",
   "metadata": {},
   "source": [
    "### Step 3:  Search for interfaces namespace\n",
    "Let’s use the Python **xml.dom.minidom()** module to find **mod:intf-name** tag in our NETCONF Response output (the amount of this namespace occurences should be same as the number of existing interfaces on the device). <br>  \n",
    "Let’s loop through that all **interfaces** data to get this tag content - so the **intf-name** of particular interface."
   ]
  },
  {
   "cell_type": "code",
   "execution_count": null,
   "metadata": {
    "collapsed": true
   },
   "outputs": [],
   "source": [
    "xml_doc = xml.dom.minidom.parseString(netconf_output.xml)\n",
    "intf_name = xml_doc.getElementsByTagName(\"mod:intf-name\")\n",
    "\n",
    "for i in range(0, len(intf_name)):\n",
    "    interface_name.append(intf_name[i].firstChild.nodeValue)\n",
    "    \n",
    "print(interface_name)"
   ]
  },
  {
   "cell_type": "markdown",
   "metadata": {},
   "source": [
    "![Screenshot%202019-06-05%20at%2016.22.28.png](attachment:Screenshot%202019-06-05%20at%2016.22.28.png)"
   ]
  },
  {
   "cell_type": "markdown",
   "metadata": {},
   "source": [
    "### Step 4:  Fulfill interfaces data\n",
    "Then use the **Python append()** function to fill each interface in our structure with this parameter:"
   ]
  },
  {
   "cell_type": "code",
   "execution_count": null,
   "metadata": {
    "collapsed": true
   },
   "outputs": [],
   "source": [
    "count = 0\n",
    "for interface in interface_name:\n",
    "    entry = {'Hostname': 'NXOS', 'Interface': interface_name[count], 'IP': '-', 'Mask': '-'}\n",
    "    discovery.append(entry)\n",
    "    count += 1"
   ]
  },
  {
   "cell_type": "markdown",
   "metadata": {},
   "source": [
    "![Screen%20Shot%202018-05-21%20at%2014.14.02.png](attachment:Screen%20Shot%202018-05-21%20at%2014.14.02.png)"
   ]
  },
  {
   "cell_type": "markdown",
   "metadata": {},
   "source": [
    "Check if our main **discovery** structure has been filled with Interfaces Names:"
   ]
  },
  {
   "cell_type": "code",
   "execution_count": null,
   "metadata": {
    "collapsed": true
   },
   "outputs": [],
   "source": [
    "pprint.pprint(discovery)"
   ]
  },
  {
   "cell_type": "markdown",
   "metadata": {},
   "source": [
    "Success! Now it's time to get inside of each interface to gather each one of their IP address and Mask in the same way!"
   ]
  },
  {
   "cell_type": "markdown",
   "metadata": {},
   "source": [
    "### Step 5:  Search for prefix and masklen tags\n",
    "Let’s use the Python **xml.dom.minidom** module again, this time to find **prefix** and **masklen** tags in our NETCONF output. <br> Let’s loop through that **ip** data and search for the **mod:prefix** and **mod:masklen** tags to get these tags' content - so **IP address** and **Mask** of particular interface:"
   ]
  },
  {
   "cell_type": "code",
   "execution_count": null,
   "metadata": {
    "collapsed": true
   },
   "outputs": [],
   "source": [
    "IPs = xml_doc.getElementsByTagName(\"mod:prefix\")\n",
    "for i in range(0, len(IPs)):\n",
    "    ip.append(IPs[i].firstChild.nodeValue)\n",
    "\n",
    "masks = xml_doc.getElementsByTagName(\"mod:masklen\")\n",
    "for i in range(0, len(masks)):\n",
    "    mask.append(int(masks[i].firstChild.nodeValue))\n",
    "\n",
    "print(ip)\n",
    "print(mask)"
   ]
  },
  {
   "cell_type": "markdown",
   "metadata": {},
   "source": [
    "![Screenshot%202019-06-05%20at%2016.23.16.png](attachment:Screenshot%202019-06-05%20at%2016.23.16.png)"
   ]
  },
  {
   "cell_type": "markdown",
   "metadata": {},
   "source": [
    "### Step 6:  Fulfill ip and masklen data\n",
    "Then update our structure with these parameters:"
   ]
  },
  {
   "cell_type": "code",
   "execution_count": null,
   "metadata": {
    "collapsed": true
   },
   "outputs": [],
   "source": [
    "count = 0\n",
    "for address in ip:\n",
    "    discovery[count] = {'Hostname': 'NXOS', 'Interface':interface_name[count], 'IP':ip[count], 'Mask':mask[count]}\n",
    "    count += 1"
   ]
  },
  {
   "cell_type": "markdown",
   "metadata": {},
   "source": [
    "![Screen%20Shot%202018-05-21%20at%2014.18.25.png](attachment:Screen%20Shot%202018-05-21%20at%2014.18.25.png)"
   ]
  },
  {
   "cell_type": "markdown",
   "metadata": {},
   "source": [
    "### Step 7:  Show filled structure\n",
    "Pretty-print our structure filled with data:"
   ]
  },
  {
   "cell_type": "code",
   "execution_count": null,
   "metadata": {
    "collapsed": true
   },
   "outputs": [],
   "source": [
    "pprint.pprint(discovery)"
   ]
  },
  {
   "cell_type": "markdown",
   "metadata": {},
   "source": [
    "You see it now! Our structure looks really good now that it's filled with the data! Each **interface** is defined as a separate dictionary - **{}**, inside which its parameters are stored as a **'key' : 'value'** Python structure! "
   ]
  },
  {
   "cell_type": "markdown",
   "metadata": {},
   "source": [
    "# <div style=\"background: #6ebe4a;border-bottom: 1px solid #6ebe4a;border-top: 1px solid #6ebe4a;padding:1%;margin-top:-2%;margin-bottom:-3%;\"><center><font color='white'> Success! Data Extracted! </font></center></div>"
   ]
  },
  {
   "cell_type": "markdown",
   "metadata": {},
   "source": [
    "<hr style=\"opacity:0.5;height:1px;border:none;color:#005073;background-color:#005073;\" />"
   ]
  },
  {
   "cell_type": "markdown",
   "metadata": {},
   "source": [
    "# <div style=\"background: #005073;border-bottom: 1px solid #005073;border-top: 1px solid #005073;padding:2%;margin-top:-2%;margin-bottom:-3%;\"><center><font color='white'> CHAPTER 3 - FILL THE SPREADSHEET </font></center></div>"
   ]
  },
  {
   "cell_type": "markdown",
   "metadata": {},
   "source": [
    "### Overview\n",
    "\n",
    "In this chapter we're going to use our previously created **dictionary data structure** and: \n",
    "- **create a spreadsheet** using Python\n",
    "- **fill the spreadsheet** with that dictionary data"
   ]
  },
  {
   "cell_type": "markdown",
   "metadata": {},
   "source": [
    "![Screen%20Shot%202018-06-10%20at%2016.15.56.png](attachment:Screen%20Shot%202018-06-10%20at%2016.15.56.png)"
   ]
  },
  {
   "cell_type": "markdown",
   "metadata": {},
   "source": [
    "<center>To achieve this, we will use <b>Pandas</b> Python module.</center>\n",
    "<center><b>Pandas</b> are our friends! Let's talk with them!</center>"
   ]
  },
  {
   "cell_type": "markdown",
   "metadata": {},
   "source": [
    "![Screenshot%202019-06-05%20at%2016.29.11.png](attachment:Screenshot%202019-06-05%20at%2016.29.11.png)"
   ]
  },
  {
   "cell_type": "markdown",
   "metadata": {},
   "source": [
    "### Step 1: Import required Python modules\n",
    "\n",
    "Let's start by importing the necessary Python modules:"
   ]
  },
  {
   "cell_type": "code",
   "execution_count": null,
   "metadata": {
    "collapsed": true
   },
   "outputs": [],
   "source": [
    "import pandas"
   ]
  },
  {
   "cell_type": "markdown",
   "metadata": {},
   "source": [
    "### Step 2: Create a spreadsheet "
   ]
  },
  {
   "cell_type": "markdown",
   "metadata": {},
   "source": [
    "</br><b>👨</b> Dear Pandas,\n",
    "can you please create a spreadsheet called 'discovery.xlsx' for me?"
   ]
  },
  {
   "cell_type": "code",
   "execution_count": null,
   "metadata": {
    "collapsed": true
   },
   "outputs": [],
   "source": [
    "spreadsheet = pandas.ExcelWriter('discovery.xlsx', engine='xlsxwriter')"
   ]
  },
  {
   "cell_type": "markdown",
   "metadata": {},
   "source": [
    "</br><b>🐼</b> - Sure! It's now opened for writing!"
   ]
  },
  {
   "cell_type": "markdown",
   "metadata": {},
   "source": [
    "### Step 3: Fill spreadsheet with the data"
   ]
  },
  {
   "cell_type": "markdown",
   "metadata": {},
   "source": [
    "</br><b>👨</b> Dear Pandas, I have some data gathered in a Python dictionary format... can you put that data into this spreadsheet?</br>"
   ]
  },
  {
   "cell_type": "code",
   "execution_count": null,
   "metadata": {
    "collapsed": true
   },
   "outputs": [],
   "source": [
    "dataframe = pandas.DataFrame(discovery)"
   ]
  },
  {
   "cell_type": "markdown",
   "metadata": {},
   "source": [
    "**DataFrame** is the most commonly used Pandas object - it's a 2-dimensional data structure of rows and columns (like a simple table). We want to fill it with the data Python dictionary that we have gathered in the previous section - that's why we put this dict into DataFrame 'stomach' :) It's like mapping your Python data dictionary to the pure accessible Data.\n",
    "\n",
    "*BTW: Do you see that it was worth it to put all data into the Python Dictionary? Now, everything is super simple!* :)"
   ]
  },
  {
   "cell_type": "markdown",
   "metadata": {},
   "source": [
    "</br> <b>🐼</b> - No issues! See what we have filled in the spreadsheet: </br>"
   ]
  },
  {
   "cell_type": "code",
   "execution_count": null,
   "metadata": {
    "collapsed": true
   },
   "outputs": [],
   "source": [
    "dataframe"
   ]
  },
  {
   "cell_type": "markdown",
   "metadata": {},
   "source": [
    "</br><b>🐼</b> - Looks good, doesn't it? :) </br>"
   ]
  },
  {
   "cell_type": "markdown",
   "metadata": {},
   "source": [
    "### Step 4: Transfer data to the specific sheet"
   ]
  },
  {
   "cell_type": "markdown",
   "metadata": {},
   "source": [
    "</br><b>👨</b> Dear Pandas, last thing... I need to find this data in a specific sheet, may I? </br>"
   ]
  },
  {
   "cell_type": "code",
   "execution_count": null,
   "metadata": {
    "collapsed": true
   },
   "outputs": [],
   "source": [
    "dataframe.to_excel(spreadsheet, sheet_name='Report')"
   ]
  },
  {
   "cell_type": "markdown",
   "metadata": {},
   "source": [
    "</br><b>🐼</b> - Here you are! You will be able to access your data within your previously created spreadsheet in the specific Sheet called 'Report'.</br>"
   ]
  },
  {
   "cell_type": "markdown",
   "metadata": {},
   "source": [
    "### Step 5: Save it"
   ]
  },
  {
   "cell_type": "markdown",
   "metadata": {},
   "source": [
    "</br><b>👨</b> You're amazing! That's all for now, please save what we have done, thank you so much! </br>"
   ]
  },
  {
   "cell_type": "code",
   "execution_count": null,
   "metadata": {
    "collapsed": true
   },
   "outputs": [],
   "source": [
    "spreadsheet.save()\n",
    "print(\"*** Spreadsheet successfuly filled with the data! ***\")"
   ]
  },
  {
   "cell_type": "markdown",
   "metadata": {},
   "source": [
    "</br><b>🐼</b> - No problem my friend! See you soon again! :)</br>"
   ]
  },
  {
   "cell_type": "markdown",
   "metadata": {},
   "source": [
    "**Now you can manually check if the 'discovery.xlsx' spreadsheet has been created and if data is inside!**\n",
    "<br><a href=\"../tree/\"> Click here and check the spreadsheet! </a>"
   ]
  },
  {
   "cell_type": "markdown",
   "metadata": {},
   "source": [
    "# <div style=\"background: #6ebe4a;border-bottom: 1px solid #6ebe4a;border-top: 1px solid #6ebe4a;padding:1%;margin-top:-2%;margin-bottom:-3%;\"><center><font color='white'> Success! Spreadsheet created & filled! </font></center></div>"
   ]
  },
  {
   "cell_type": "markdown",
   "metadata": {},
   "source": [
    "<hr style=\"opacity:0.5;height:1px;border:none;color:#005073;background-color:#005073;\" />"
   ]
  },
  {
   "cell_type": "markdown",
   "metadata": {},
   "source": [
    "# <div style=\"background: #005073;border-bottom: 1px solid #005073;border-top: 1px solid #005073;padding:2%;margin-top:-2%;margin-bottom:-3%;\"><center><font color='white'> CHAPTER 4 - CHECK & UPDATE CONFIG </font></center></div>"
   ]
  },
  {
   "cell_type": "markdown",
   "metadata": {},
   "source": [
    "### Overview\n",
    "In this last chapter we're going to check if the **current configuration** of our **device** is **compliant** with the **template configuration** in the **spreadsheet**. <br>\n",
    "\n",
    "**If the configuration on the device is the same as the one on the spreadsheet, we're going to:**\n",
    "- <p style=\"color:green;\">show <b>config is up to date</b> message</p>\n",
    "\n",
    "\n",
    "**If the configuration on the device is different, we're going to:**\n",
    "- <p style=\"color:red;\">show <b>config missmatch</b> message and print <b>config difference</b> </p>\n",
    "- **update** device configuration as it stands in the spreadsheet"
   ]
  },
  {
   "cell_type": "markdown",
   "metadata": {},
   "source": [
    "![Screen%20Shot%202018-06-10%20at%2016.16.29.png](attachment:Screen%20Shot%202018-06-10%20at%2016.16.29.png)"
   ]
  },
  {
   "cell_type": "markdown",
   "metadata": {},
   "source": [
    "We're going to reverse the order of what we were doing in the last chapter.<br> Now, we need to read the spreadsheet and convert the DataFrame format of our data to a Python Dictionary. "
   ]
  },
  {
   "cell_type": "markdown",
   "metadata": {},
   "source": [
    "### Step 1: Read the spreadsheet"
   ]
  },
  {
   "cell_type": "markdown",
   "metadata": {},
   "source": [
    "Let's first read our discovery.xlsx spreadsheet file:"
   ]
  },
  {
   "cell_type": "code",
   "execution_count": null,
   "metadata": {
    "collapsed": true
   },
   "outputs": [],
   "source": [
    "spreadsheet = pandas.ExcelFile(\"discovery.xlsx\")"
   ]
  },
  {
   "cell_type": "markdown",
   "metadata": {},
   "source": [
    "Then read the particular Report sheet from the file to the Python variable:"
   ]
  },
  {
   "cell_type": "code",
   "execution_count": null,
   "metadata": {
    "collapsed": true
   },
   "outputs": [],
   "source": [
    "dataframe = spreadsheet.parse(\"Report\")"
   ]
  },
  {
   "cell_type": "markdown",
   "metadata": {},
   "source": [
    "### Step 2: Convert spreadsheet data to dictionary"
   ]
  },
  {
   "cell_type": "markdown",
   "metadata": {},
   "source": [
    "Convert the **DataFrame** structure to a **Python dictionary** structure (we're now reversing the process when comparing to the previous chapter):"
   ]
  },
  {
   "cell_type": "code",
   "execution_count": null,
   "metadata": {
    "collapsed": true
   },
   "outputs": [],
   "source": [
    "spreadsheet_dict = dataframe.to_dict('records')\n",
    "print(spreadsheet_dict)"
   ]
  },
  {
   "cell_type": "markdown",
   "metadata": {},
   "source": [
    "### Step 3: Create NETCONF string to edit-config"
   ]
  },
  {
   "cell_type": "markdown",
   "metadata": {},
   "source": [
    "Similarly to Chapter 1 of this Workshop when you were preparing a NETCONF &lt;get-config&gt; Request, now define a **NETCONF &lt;edit-config&gt;** XML string to then send a NETCONF Request which will update the interface configuration in case of any changes:"
   ]
  },
  {
   "cell_type": "code",
   "execution_count": null,
   "metadata": {
    "collapsed": true
   },
   "outputs": [],
   "source": [
    "update_interface_config_string = '''\n",
    "            <configure xmlns=\"http://www.cisco.com/nxos:1.0\">\n",
    "                <__XML__MODE__exec_configure>\n",
    "                    <interface>\n",
    "                        <ethernet>\n",
    "                            <interface>%s</interface>\n",
    "                            <__XML__MODE_if-ethernet>\n",
    "                                <__XML__MODE_if-eth-base>\n",
    "                                    <no>\n",
    "                                      <switchport/>\n",
    "                                      <shutdown/>\n",
    "                                    </no>\n",
    "                                    <ip>\n",
    "                                        <address>\n",
    "                                            <ip_addr>%s/%s</ip_addr>\n",
    "                                        </address>\n",
    "                                    </ip>\n",
    "                                </__XML__MODE_if-eth-base>\n",
    "                            </__XML__MODE_if-ethernet>\n",
    "                        </ethernet>\n",
    "                    </interface>\n",
    "                </__XML__MODE__exec_configure>\n",
    "            </configure>\n",
    "'''\n"
   ]
  },
  {
   "cell_type": "markdown",
   "metadata": {},
   "source": [
    "<center>There is one difference between the &lt;get-config&gt; and &lt;edit-config&gt; strings</center><center><br><b>%s</b> signs in the string above mean that we will bind them with real <b>values</b> while executing the NETCONF Request, similar to this:<br></center>\n",
    "<center><b>update_interface_config_string % Interface Name, IP address, Mask</b></center>"
   ]
  },
  {
   "cell_type": "markdown",
   "metadata": {},
   "source": [
    "### Step 4: Define function to execute config update"
   ]
  },
  {
   "cell_type": "markdown",
   "metadata": {},
   "source": [
    "Now we're going to define a **Python function** which allows us to later trigger its execution every time any differences between the configuration in the spreadsheet and the configuration on the device are detected.<br><br>It's going to update the configuration as it stands in the spreadsheet."
   ]
  },
  {
   "cell_type": "markdown",
   "metadata": {},
   "source": [
    "1. **Connect** to the device (in the same way as previously!)\n",
    "2. Prepare a loop XML **configuration** string with all the configuration changes and bind it to the proper spreadsheet values\n",
    "3. Put these changes between **&lt;config&gt;** tags\n",
    "4. Push the whole configuration string using **NETCONF &lt;edit-config&gt;** operation\n",
    "5. Handle exceptions and print a message"
   ]
  },
  {
   "cell_type": "code",
   "execution_count": null,
   "metadata": {
    "collapsed": true
   },
   "outputs": [],
   "source": [
    "def update_config(changes):\n",
    "    try:\n",
    "        device_connection = ncclient.manager.connect(\n",
    "            host = '127.0.0.1',\n",
    "            port = 2222,\n",
    "            username='admin',\n",
    "            password='cisco',\n",
    "            hostkey_verify=False,\n",
    "            device_params={'name': 'nexus'},\n",
    "            allow_agent=False,\n",
    "            look_for_keys=False\n",
    "        )\n",
    "        print(\"Connected to the device!\")\n",
    "    except:\n",
    "        print(\"Failure...\")\n",
    "        \n",
    "    configuration = ''\n",
    "\n",
    "    try:\n",
    "        configuration += '<config>'\n",
    "        for change in range(0, len(changes)):\n",
    "            configuration += update_interface_config_string % (changes[change]['Interface'].strip('Ethernet'), changes[change]['IP'], changes[change]['Mask'])\n",
    "        configuration += '</config>'\n",
    "        print(configuration)\n",
    "        device_connection.edit_config(target='running', config=configuration)\n",
    "        print(\"Config pushed successfuly!\")\n",
    "    except:\n",
    "        print(\"Something went wrong...\")"
   ]
  },
  {
   "cell_type": "markdown",
   "metadata": {},
   "source": [
    "OK! We're prepared for the final step! "
   ]
  },
  {
   "cell_type": "markdown",
   "metadata": {},
   "source": [
    "### Step 5: Compare config - spreadsheet vs. present config"
   ]
  },
  {
   "cell_type": "markdown",
   "metadata": {},
   "source": [
    "Finally, we're going to check if the configuration is compliant using Python's **if statement** (we're simply comparing 2 Python dictionaries - **spreadsheet** data converted to the dictionary and **discovery** dictionary based on current device configuration). <br>\n",
    "If both dictionaries are the same - print a message. Otherwise - print all differences **(changes)** and trigger the previously defined **update_config()** function with printed information message:"
   ]
  },
  {
   "cell_type": "code",
   "execution_count": null,
   "metadata": {
    "collapsed": true
   },
   "outputs": [],
   "source": [
    "if (spreadsheet_dict == discovery):\n",
    "    print(\"*** Configuration is up to date! ***\")\n",
    "else:\n",
    "    changes = [config for config in spreadsheet_dict if config not in discovery]\n",
    "    print(\"*** \" + str(len(changes)) + \" configuration mismatch/es on the device. ***\")\n",
    "    print(changes)\n",
    "    print(\"*** Configuration will be updated ***\")\n",
    "    update_config(changes)"
   ]
  },
  {
   "cell_type": "markdown",
   "metadata": {},
   "source": [
    "<center><b>Done!!!</b><center> <br>\n",
    "    You should now be able to see that the  <b>*** Configuration is up to date! ***</b> <br><br>\n",
    "Now open the spreadsheet manually, make some changes to the interfaces configuration and execute this Chapter again to see if the logic works! After positive execution you can go back to Chapter 1, choose the most suitable option for you and GATHER DATA once again to verify that the configuration on the device has been changed as it stands in the spreadsheet!"
   ]
  },
  {
   "cell_type": "markdown",
   "metadata": {},
   "source": [
    "# <div style=\"background: #6ebe4a;border-bottom: 1px solid #6ebe4a;border-top: 1px solid #6ebe4a;padding:1%;margin-top:-2%;margin-bottom:-3%;\"><center><font color='white'> Success! Config checked and updated! </font></center></div>"
   ]
  },
  {
   "cell_type": "markdown",
   "metadata": {},
   "source": [
    "<hr style=\"opacity:0.5;height:2px;border:none;color:#00bceb;background-color:#00bceb;\" />\n",
    "<hr style=\"opacity:0.5;height:2px;border:none;color:#00bceb;background-color:#00bceb;\" />"
   ]
  },
  {
   "cell_type": "markdown",
   "metadata": {},
   "source": [
    "# <div style=\"background: #00bceb;border-bottom: 1px solid #00bceb;border-top: 1px solid #00bceb;padding:2%;margin-top:-2%;margin-bottom:-3%;\"><center><font color='white'> Summary </font></center></div>"
   ]
  },
  {
   "cell_type": "markdown",
   "metadata": {},
   "source": [
    "At this point, if everything went well and you didn't experience any execution errors you should already know how to:\n",
    "* collect data from the device in 2 different ways: using Python Netmiko module (SSH) and NETCONF\n",
    "* extract a specific piece of information\n",
    "* create a spreadsheet and populate it with extracted data via Python\n",
    "* check configuration compliance (spreadsheet vs. real configuration)\n",
    "* update configuration on the device via Python\n",
    "\n",
    "## ...in a repeatable and scalable way!\n",
    "\n"
   ]
  },
  {
   "cell_type": "markdown",
   "metadata": {},
   "source": [
    "That is the end of the lab instruction. I hope everything was clear and that what you have learnt will be useful!<br>\n",
    "If you have any questions or ideas for improvements please contact **<email>blukasz@cisco.com</email>**, or just let me know after the lab :)"
   ]
  },
  {
   "cell_type": "markdown",
   "metadata": {},
   "source": [
    "**HOMEWORK**  \n",
    "Put your Jupyter notebook to your GitHub repository at Automation folder.  \n",
    "Based on the LAB, using Netmiko and ncclient Python library:"
   ]
  },
  {
   "cell_type": "markdown",
   "metadata": {},
   "source": [
    "1. SSH to the device and execute 'show hostname' command:"
   ]
  },
  {
   "cell_type": "code",
   "execution_count": 1,
   "metadata": {
    "collapsed": false
   },
   "outputs": [
    {
     "name": "stdout",
     "output_type": "stream",
     "text": [
      "Connected to the device!\n",
      "Nexus9000v \n",
      "\n"
     ]
    }
   ],
   "source": [
    "from netmiko import ConnectHandler\n",
    "\n",
    "try:\n",
    "    device_connection = ConnectHandler(\n",
    "        device_type = 'cisco_nxos',\n",
    "        ip = '127.0.0.1',\n",
    "        port = '2222',\n",
    "        username = 'admin',\n",
    "        password = 'cisco!123'\n",
    "    )\n",
    "    print(\"Connected to the device!\")\n",
    "except:\n",
    "    print(\"Failure...\")\n",
    "    \n",
    "ssh_output = device_connection.send_command(\"show hostname\")\n",
    "print(ssh_output)    \n",
    "    \n",
    "device_connection.disconnect()"
   ]
  },
  {
   "cell_type": "markdown",
   "metadata": {},
   "source": [
    "2. Create NETCONF Request that will GET the Hostname of your device:"
   ]
  },
  {
   "cell_type": "code",
   "execution_count": 36,
   "metadata": {
    "collapsed": false
   },
   "outputs": [
    {
     "name": "stdout",
     "output_type": "stream",
     "text": [
      "Connected to the device!\n",
      "['Nexus9000v']\n",
      "{'Hostname': ['Nexus9000v']}\n"
     ]
    }
   ],
   "source": [
    "import ncclient\n",
    "from ncclient import manager\n",
    "from ncclient.operations import TimeoutExpiredError\n",
    "import xml.dom.minidom\n",
    "\n",
    "import pprint\n",
    "\n",
    "try:\n",
    "    device_connection = ncclient.manager.connect(\n",
    "        host = '127.0.0.1',\n",
    "        port = 2222,\n",
    "        username='admin',\n",
    "        password='cisco!123',\n",
    "        hostkey_verify=False,\n",
    "        device_params={'name': 'nexus'},\n",
    "        allow_agent=False,\n",
    "        look_for_keys=False\n",
    "    )\n",
    "    print(\"Connected to the device!\")\n",
    "except:\n",
    "    print(\"Failure...\")\n",
    "    \n",
    "int_filter = '''\n",
    "                       <show xmlns=\"http://www.cisco.com/nxos:1.0\">\n",
    "                             <hostname>\n",
    "                              \n",
    "                             </hostname>\n",
    "                       </show>\n",
    "           '''\n",
    "\n",
    "netconf_output = device_connection.get(('subtree', int_filter))\n",
    "\n",
    "discovery = []\n",
    "hostname = []\n",
    "\n",
    "xml_doc = xml.dom.minidom.parseString(netconf_output.xml)\n",
    "host_name = xml_doc.getElementsByTagName(\"mod:hostname\")\n",
    "\n",
    "for i in range(0, len(host_name)):\n",
    "    hostname.append(host_name[0].firstChild.nodeValue)\n",
    "    \n",
    "print(hostname)\n",
    "\n",
    "discovery = {'Hostname': hostname}\n",
    "\n",
    "pprint.pprint(discovery)"
   ]
  },
  {
   "cell_type": "markdown",
   "metadata": {},
   "source": [
    "3. Create NETCONF Request that will change the Hostname of your device to 'NEXUS':"
   ]
  },
  {
   "cell_type": "code",
   "execution_count": 43,
   "metadata": {
    "collapsed": false
   },
   "outputs": [
    {
     "name": "stdout",
     "output_type": "stream",
     "text": [
      "*** Spreadsheet successfuly filled with the data! ***\n",
      "*** Configuration will be updated ***\n",
      "Connected to the device!\n",
      "Config pushed successfuly!\n"
     ]
    }
   ],
   "source": [
    "import pandas\n",
    "spreadsheet = pandas.ExcelWriter('discovery.xlsx', engine='xlsxwriter')\n",
    "dataframe = pandas.DataFrame(discovery)\n",
    "\n",
    "dataframe.to_excel(spreadsheet, sheet_name='Report')\n",
    "spreadsheet.save()\n",
    "print(\"*** Spreadsheet successfuly filled with the data! ***\")\n",
    "\n",
    "int_filter = '''\n",
    "                       <configure xmlns=\"http://www.cisco.com/nxos:1.0\">\n",
    "                             <__XML__MODE__exec_configure>\n",
    "                                 <hostname>\n",
    "                                      <name>NEXUS</name>\n",
    "                                 </hostname>\n",
    "                             </__XML__MODE__exec_configure>\n",
    "                       </configure>\n",
    "           '''\n",
    "\n",
    "def update_config(changes):\n",
    "    try:\n",
    "        device_connection = ncclient.manager.connect(\n",
    "            host = '127.0.0.1',\n",
    "            port = 2222,\n",
    "            username='admin',\n",
    "            password='cisco!123',\n",
    "            hostkey_verify=False,\n",
    "            device_params={'name': 'nexus'},\n",
    "            allow_agent=False,\n",
    "            look_for_keys=False\n",
    "        )\n",
    "        print(\"Connected to the device!\")\n",
    "    except:\n",
    "        print(\"Failure...\")\n",
    "        \n",
    "    configuration = ''\n",
    "    try:\n",
    "        configuration += '<config>'\n",
    "        configuration += int_filter\n",
    "        configuration += '</config>'\n",
    "        #print(configuration)\n",
    "        device_connection.edit_config(target='running', config=configuration)\n",
    "        print(\"Config pushed successfuly!\")\n",
    "    except:\n",
    "        print(\"Something went wrong...\")\n",
    "               \n",
    "if hostname[0] == \"NEXUS\":\n",
    "    print(\"*** Configuration is up to date! ***\")\n",
    "else:\n",
    "    print(\"*** Configuration will be updated ***\")\n",
    "    changes = [\"NEXUS\"]\n",
    "    update_config(changes)"
   ]
  },
  {
   "cell_type": "markdown",
   "metadata": {},
   "source": [
    "![CLUSthanks.png](attachment:CLUSthanks.png)"
   ]
  },
  {
   "cell_type": "markdown",
   "metadata": {},
   "source": [
    "![CLUSend.png](attachment:CLUSend.png)"
   ]
  }
 ],
 "metadata": {
  "kernelspec": {
   "display_name": "Python 3",
   "language": "python",
   "name": "python3"
  },
  "language_info": {
   "codemirror_mode": {
    "name": "ipython",
    "version": 3
   },
   "file_extension": ".py",
   "mimetype": "text/x-python",
   "name": "python",
   "nbconvert_exporter": "python",
   "pygments_lexer": "ipython3",
   "version": "3.8.1"
  }
 },
 "nbformat": 4,
 "nbformat_minor": 2
}
